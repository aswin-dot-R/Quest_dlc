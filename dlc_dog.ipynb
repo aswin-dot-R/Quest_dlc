{
  "cells": [
    {
      "cell_type": "markdown",
      "metadata": {
        "id": "zYm6DljQB0Y7"
      },
      "source": [
        "###proTip: be sure to click \"restart runtime button\" if it appears above ^"
      ]
    },
    {
      "cell_type": "code",
      "execution_count": 39,
      "metadata": {
        "id": "bvoiWefrYQEP"
      },
      "outputs": [],
      "source": [
        "import os\n",
        "import deeplabcut\n"
      ]
    },
    {
      "cell_type": "code",
      "execution_count": 40,
      "metadata": {
        "id": "7eqEZYs_CaLy"
      },
      "outputs": [],
      "source": [
        "\n",
        "video_path = os.path.abspath(\"dog_running.mp4\")\n",
        "\n",
        "# If this cell fails (e.g., when using Safari in place of Google Chrome),\n",
        "# manually upload your video via the Files menu to the left\n",
        "# and define `video_path` yourself with right click > copy path on the video."
      ]
    },
    {
      "cell_type": "code",
      "execution_count": 41,
      "metadata": {
        "id": "Ih0t7lUjYQEd"
      },
      "outputs": [
        {
          "data": {
            "text/plain": [
              "'full_dog'"
            ]
          },
          "metadata": {},
          "output_type": "display_data"
        }
      ],
      "source": [
        "import ipywidgets as widgets\n",
        "from IPython.display import display\n",
        "\n",
        "# model_options = deeplabcut.create_project.modelzoo.Modeloptions\n",
        "model_selection =\"full_dog\"\n",
        "display(model_selection)"
      ]
    },
    {
      "cell_type": "code",
      "execution_count": 42,
      "metadata": {
        "id": "UV0QXswGCFrI"
      },
      "outputs": [],
      "source": [
        "project_name = 'myDLC_modelZoo'\n",
        "your_name = 'teamDLC'\n",
        "model2use = model_selection\n",
        "videotype = os.path.splitext(video_path)[-1].lstrip('.') #or MOV, or avi, whatever you uploaded!"
      ]
    },
    {
      "cell_type": "code",
      "execution_count": 43,
      "metadata": {
        "id": "WpAX3BKY94e0"
      },
      "outputs": [
        {
          "name": "stdout",
          "output_type": "stream",
          "text": [
            "/home/ashie/Desktop/dog-pose-estimation/dog-ashie-2024-03-31/dog_runningdownsampled.mp4\n"
          ]
        },
        {
          "name": "stderr",
          "output_type": "stream",
          "text": [
            "ffmpeg version 6.1.1 Copyright (c) 2000-2023 the FFmpeg developers\n",
            "  built with gcc 12.3.0 (conda-forge gcc 12.3.0-5)\n",
            "  configuration: --prefix=/home/conda/feedstock_root/build_artifacts/ffmpeg_1710227007179/_h_env_placehold_placehold_placehold_placehold_placehold_placehold_placehold_placehold_placehold_placehold_placehold_placehold_placehold_placehold_placehold_placehold_placehold_placehold_plac --cc=/home/conda/feedstock_root/build_artifacts/ffmpeg_1710227007179/_build_env/bin/x86_64-conda-linux-gnu-cc --cxx=/home/conda/feedstock_root/build_artifacts/ffmpeg_1710227007179/_build_env/bin/x86_64-conda-linux-gnu-c++ --nm=/home/conda/feedstock_root/build_artifacts/ffmpeg_1710227007179/_build_env/bin/x86_64-conda-linux-gnu-nm --ar=/home/conda/feedstock_root/build_artifacts/ffmpeg_1710227007179/_build_env/bin/x86_64-conda-linux-gnu-ar --disable-doc --disable-openssl --enable-demuxer=dash --enable-hardcoded-tables --enable-libfreetype --enable-libharfbuzz --enable-libfontconfig --enable-libopenh264 --enable-libdav1d --enable-gnutls --enable-libmp3lame --enable-libvpx --enable-libass --enable-pthreads --enable-vaapi --enable-libopenvino --enable-gpl --enable-libx264 --enable-libx265 --enable-libaom --enable-libsvtav1 --enable-libxml2 --enable-pic --enable-shared --disable-static --enable-version3 --enable-zlib --enable-libopus --pkg-config=/home/conda/feedstock_root/build_artifacts/ffmpeg_1710227007179/_build_env/bin/pkg-config\n",
            "  libavutil      58. 29.100 / 58. 29.100\n",
            "  libavcodec     60. 31.102 / 60. 31.102\n",
            "  libavformat    60. 16.100 / 60. 16.100\n",
            "  libavdevice    60.  3.100 / 60.  3.100\n",
            "  libavfilter     9. 12.100 /  9. 12.100\n",
            "  libswscale      7.  5.100 /  7.  5.100\n",
            "  libswresample   4. 12.100 /  4. 12.100\n",
            "  libpostproc    57.  3.100 / 57.  3.100\n",
            "Input #0, mov,mp4,m4a,3gp,3g2,mj2, from '/home/ashie/Desktop/dog-pose-estimation/dog-ashie-2024-03-31/dog_running.mp4':\n",
            "  Metadata:\n",
            "    major_brand     : dash\n",
            "    minor_version   : 0\n",
            "    compatible_brands: iso6avc1mp41\n",
            "    creation_time   : 2023-07-02T23:31:07.000000Z\n",
            "  Duration: 00:00:32.96, start: 0.000000, bitrate: 187 kb/s\n",
            "  Stream #0:0[0x1](und): Video: h264 (Main) (avc1 / 0x31637661), yuv420p(tv, bt709, progressive), 640x360 [SAR 1:1 DAR 16:9], 25 kb/s, 24 fps, 24 tbr, 12288 tbn (default)\n",
            "    Metadata:\n",
            "      creation_time   : 2023-07-02T23:31:07.000000Z\n",
            "      handler_name    : ISO Media file produced by Google Inc.\n",
            "      vendor_id       : [0][0][0][0]\n",
            "File '/home/ashie/Desktop/dog-pose-estimation/dog-ashie-2024-03-31/dog_runningdownsampled.mp4' already exists. Exiting.\n",
            "Error opening output file /home/ashie/Desktop/dog-pose-estimation/dog-ashie-2024-03-31/dog_runningdownsampled.mp4.\n"
          ]
        }
      ],
      "source": [
        "video_path = deeplabcut.DownSampleVideo(video_path, width=300)\n",
        "print(video_path)"
      ]
    },
    {
      "cell_type": "code",
      "execution_count": 44,
      "metadata": {
        "id": "T9MGgAdIFKPY"
      },
      "outputs": [
        {
          "name": "stdout",
          "output_type": "stream",
          "text": [
            "Created \"/home/ashie/Desktop/dog-pose-estimation/dog-ashie-2024-03-31/myDLC_modelZoo-teamDLC-2024-04-01/videos\"\n",
            "Created \"/home/ashie/Desktop/dog-pose-estimation/dog-ashie-2024-03-31/myDLC_modelZoo-teamDLC-2024-04-01/labeled-data\"\n",
            "Created \"/home/ashie/Desktop/dog-pose-estimation/dog-ashie-2024-03-31/myDLC_modelZoo-teamDLC-2024-04-01/training-datasets\"\n",
            "Created \"/home/ashie/Desktop/dog-pose-estimation/dog-ashie-2024-03-31/myDLC_modelZoo-teamDLC-2024-04-01/dlc-models\"\n",
            "Copying the videos\n",
            "/home/ashie/Desktop/dog-pose-estimation/dog-ashie-2024-03-31/myDLC_modelZoo-teamDLC-2024-04-01/videos/dog_runningdownsampled.mp4\n",
            "Generated \"/home/ashie/Desktop/dog-pose-estimation/dog-ashie-2024-03-31/myDLC_modelZoo-teamDLC-2024-04-01/config.yaml\"\n",
            "\n",
            "A new project with name myDLC_modelZoo-teamDLC-2024-04-01 is created at /home/ashie/Desktop/dog-pose-estimation/dog-ashie-2024-03-31 and a configurable file (config.yaml) is stored there. Change the parameters in this file to adapt to your project's needs.\n",
            " Once you have changed the configuration file, use the function 'extract_frames' to select frames for labeling.\n",
            ". [OPTIONAL] Use the function 'add_new_videos' to add new videos to your project (at any stage).\n",
            "Downloading weights...\n",
            "Loading.... full_dog\n"
          ]
        },
        {
          "data": {
            "application/vnd.jupyter.widget-view+json": {
              "model_id": "e8304b460a6c4be98fc890fae313850b",
              "version_major": 2,
              "version_minor": 0
            },
            "text/plain": [
              "(…)g_resnet_50_iteration-0_shuffle-0.tar.gz:   0%|          | 0.00/183M [00:00<?, ?B/s]"
            ]
          },
          "metadata": {},
          "output_type": "display_data"
        },
        {
          "name": "stdout",
          "output_type": "stream",
          "text": [
            "/home/ashie/Desktop/dog-pose-estimation/dog-ashie-2024-03-31/myDLC_modelZoo-teamDLC-2024-04-01/dlc-models/iteration-0/myDLC_modelZooApr1-trainset95shuffle1/train/pose_cfg.yaml\n",
            "Analyzing video...\n",
            "Using snapshot-75000 for model /home/ashie/Desktop/dog-pose-estimation/dog-ashie-2024-03-31/myDLC_modelZoo-teamDLC-2024-04-01/dlc-models/iteration-0/myDLC_modelZooApr1-trainset95shuffle1\n"
          ]
        },
        {
          "name": "stderr",
          "output_type": "stream",
          "text": [
            "/home/ashie/anaconda3/envs/DEEPLABCUT/lib/python3.9/site-packages/tensorflow/python/keras/engine/base_layer_v1.py:1694: UserWarning: `layer.apply` is deprecated and will be removed in a future version. Please use `layer.__call__` method instead.\n",
            "  warnings.warn('`layer.apply` is deprecated and '\n"
          ]
        },
        {
          "name": "stdout",
          "output_type": "stream",
          "text": [
            "Analyzing all the videos in the directory...\n",
            "Starting to analyze %  /home/ashie/Desktop/dog-pose-estimation/dog-ashie-2024-03-31/myDLC_modelZoo-teamDLC-2024-04-01/videos/dog_runningdownsampled.mp4\n",
            "Loading  /home/ashie/Desktop/dog-pose-estimation/dog-ashie-2024-03-31/myDLC_modelZoo-teamDLC-2024-04-01/videos/dog_runningdownsampled.mp4\n",
            "Duration of video [s]:  32.96 , recorded with  24.0 fps!\n",
            "Overall # of frames:  791  found with (before cropping) frame dimensions:  300 200\n",
            "Starting to extract posture\n"
          ]
        },
        {
          "name": "stderr",
          "output_type": "stream",
          "text": [
            "100%|██████████| 791/791 [00:37<00:00, 21.05it/s]"
          ]
        },
        {
          "name": "stdout",
          "output_type": "stream",
          "text": [
            "Saving results in /home/ashie/Desktop/dog-pose-estimation/dog-ashie-2024-03-31/myDLC_modelZoo-teamDLC-2024-04-01/videos...\n",
            "Saving csv poses!\n",
            "The videos are analyzed. Now your research can truly start! \n",
            " You can create labeled videos with 'create_labeled_video'\n",
            "If the tracking is not satisfactory for some videos, consider expanding the training set. You can use the function 'extract_outlier_frames' to extract a few representative outlier frames.\n",
            "Analyzing all the videos in the directory...\n",
            "Filtering with median model /home/ashie/Desktop/dog-pose-estimation/dog-ashie-2024-03-31/myDLC_modelZoo-teamDLC-2024-04-01/videos/dog_runningdownsampled.mp4\n",
            "Saving filtered csv poses!\n",
            "Plotting results...\n",
            "Analyzing all the videos in the directory...\n"
          ]
        },
        {
          "name": "stderr",
          "output_type": "stream",
          "text": [
            "\n",
            "/home/ashie/anaconda3/envs/DEEPLABCUT/lib/python3.9/site-packages/deeplabcut/utils/auxiliaryfunctions.py:402: FutureWarning: Starting with pandas version 3.0 all arguments of to_hdf except for the argument 'path_or_buf' will be keyword-only.\n",
            "  DataMachine.to_hdf(dataname, \"df_with_missing\", format=\"table\", mode=\"w\")\n",
            "/home/ashie/anaconda3/envs/DEEPLABCUT/lib/python3.9/site-packages/deeplabcut/post_processing/filtering.py:298: FutureWarning: Starting with pandas version 3.0 all arguments of to_hdf except for the argument 'path_or_buf' will be keyword-only.\n",
            "  data.to_hdf(outdataname, \"df_with_missing\", format=\"table\", mode=\"w\")\n"
          ]
        },
        {
          "name": "stdout",
          "output_type": "stream",
          "text": [
            "Starting to process video: /home/ashie/Desktop/dog-pose-estimation/dog-ashie-2024-03-31/myDLC_modelZoo-teamDLC-2024-04-01/videos/dog_runningdownsampled.mp4\n",
            "Loading /home/ashie/Desktop/dog-pose-estimation/dog-ashie-2024-03-31/myDLC_modelZoo-teamDLC-2024-04-01/videos/dog_runningdownsampled.mp4 and data.\n",
            "Duration of video [s]: 32.96, recorded with 24.0 fps!\n",
            "Overall # of frames: 791 with cropped frame dimensions: 300 200\n",
            "Generating frames and creating video.\n"
          ]
        },
        {
          "name": "stderr",
          "output_type": "stream",
          "text": [
            "100%|██████████| 791/791 [00:00<00:00, 908.30it/s]\n"
          ]
        },
        {
          "name": "stdout",
          "output_type": "stream",
          "text": [
            "Analyzing all the videos in the directory...\n",
            "Loading  /home/ashie/Desktop/dog-pose-estimation/dog-ashie-2024-03-31/myDLC_modelZoo-teamDLC-2024-04-01/videos/dog_runningdownsampled.mp4 and data.\n",
            "Plots created! Please check the directory \"plot-poses\" within the video directory\n"
          ]
        }
      ],
      "source": [
        "config_path, train_config_path = deeplabcut.create_pretrained_project(\n",
        "    project_name,\n",
        "    your_name,\n",
        "    [video_path],\n",
        "    videotype=videotype,\n",
        "    model=model2use,\n",
        "    analyzevideo=True,\n",
        "    createlabeledvideo=True,\n",
        "    copy_videos=True, #must leave copy_videos=True\n",
        ")"
      ]
    },
    {
      "cell_type": "code",
      "execution_count": 45,
      "metadata": {
        "id": "yGLNVK1q6rIp"
      },
      "outputs": [
        {
          "data": {
            "text/plain": [
              "{'Task': 'myDLC_modelZoo', 'scorer': 'teamDLC', 'date': 'Apr1', 'multianimalproject': False, 'identity': None, 'project_path': '/home/ashie/Desktop/dog-pose-estimation/dog-ashie-2024-03-31/myDLC_modelZoo-teamDLC-2024-04-01', 'video_sets': {'/home/ashie/Desktop/dog-pose-estimation/dog-ashie-2024-03-31/myDLC_modelZoo-teamDLC-2024-04-01/videos/dog_runningdownsampled.mp4': {'crop': '0, 300, 0, 200'}}, 'bodyparts': ['Nose', 'L_Eye', 'R_Eye', 'L_Ear', 'R_Ear', 'Throat', 'Withers', 'TailSet', 'L_F_Paw', 'R_F_Paw', 'L_F_Wrist', 'R_F_Wrist', 'L_F_Elbow', 'R_F_Elbow', 'L_B_Paw', 'R_B_Paw', 'L_B_Hock', 'R_B_Hock', 'L_B_Stiffle', 'R_B_Stiffle'], 'start': 0, 'stop': 1, 'numframes2pick': 20, 'skeleton': [['bodypart1', 'bodypart2'], ['objectA', 'bodypart3']], 'skeleton_color': 'black', 'pcutoff': 0.5, 'dotsize': 7, 'alphavalue': 0.7, 'colormap': 'spring', 'TrainingFraction': [0.95], 'iteration': 0, 'default_net_type': 'resnet_50', 'default_augmenter': 'imgaug', 'snapshotindex': -1, 'batch_size': 8, 'cropping': False, 'x1': 0, 'x2': 640, 'y1': 277, 'y2': 624, 'corner2move2': [50, 50], 'move2corner': True}"
            ]
          },
          "execution_count": 45,
          "metadata": {},
          "output_type": "execute_result"
        }
      ],
      "source": [
        "# Updating the plotting within the config.yaml file (without opening it ;):\n",
        "edits = {\n",
        "    'dotsize': 7,  # size of the dots!\n",
        "    'colormap': 'spring',  # any matplotlib colormap!\n",
        "    'pcutoff': 0.5,  # the higher the more conservative the plotting!\n",
        "}\n",
        "deeplabcut.auxiliaryfunctions.edit_config(config_path, edits)"
      ]
    },
    {
      "cell_type": "code",
      "execution_count": 46,
      "metadata": {
        "id": "Vlc0wZgB7R5e"
      },
      "outputs": [],
      "source": [
        "# # re-create the labeled video (first you will need to delete in the folder to the LEFT!):\n",
        "# project_path = os.path.dirname(config_path)\n",
        "# full_video_path = os.path.join(\n",
        "#     project_path,\n",
        "#     'videos',\n",
        "#     os.path.basename(video_path),\n",
        "# )\n",
        "\n",
        "# #filter predictions (should already be done above ;):\n",
        "# deeplabcut.filterpredictions(config_path, [full_video_path], videotype=videotype)\n",
        "\n",
        "# #re-create the video with your edits!\n",
        "# deeplabcut.create_labeled_video(config_path, [full_video_path], videotype=videotype,draw_skeleton=True, filtered=True)\n",
        "\n",
        "\n"
      ]
    }
  ],
  "metadata": {
    "colab": {
      "name": "Copy of COLAB_DLC_ModelZoo.ipynb",
      "provenance": [],
      "toc_visible": true
    },
    "gpuClass": "standard",
    "kernelspec": {
      "display_name": "Python 3",
      "language": "python",
      "name": "python3"
    },
    "language_info": {
      "codemirror_mode": {
        "name": "ipython",
        "version": 3
      },
      "file_extension": ".py",
      "mimetype": "text/x-python",
      "name": "python",
      "nbconvert_exporter": "python",
      "pygments_lexer": "ipython3",
      "version": "3.9.19"
    }
  },
  "nbformat": 4,
  "nbformat_minor": 0
}
